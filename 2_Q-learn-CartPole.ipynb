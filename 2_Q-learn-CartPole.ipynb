{
 "cells": [
  {
   "cell_type": "markdown",
   "metadata": {},
   "source": [
    "# Q-Learning on environment (CartPole) with Large State Space"
   ]
  },
  {
   "cell_type": "markdown",
   "metadata": {},
   "source": [
    "## Create Environment, Initialize it, Know dtails about observation_space and action_space"
   ]
  },
  {
   "cell_type": "code",
   "execution_count": 2,
   "metadata": {
    "scrolled": false
   },
   "outputs": [
    {
     "name": "stdout",
     "output_type": "stream",
     "text": [
      "(4,)\n",
      "[-4.8000002e+00 -3.4028235e+38 -4.1887903e-01 -3.4028235e+38]\n",
      "[4.8000002e+00 3.4028235e+38 4.1887903e-01 3.4028235e+38]\n",
      "2\n"
     ]
    }
   ],
   "source": [
    "import gym\n",
    "env=gym.make(\"CartPole-v0\")\n",
    "obsrvation=env.reset()\n",
    "print(env.observation_space.shape)\n",
    "print(env.observation_space.low)\n",
    "print(env.observation_space.high)\n",
    "print(env.action_space.n)"
   ]
  },
  {
   "cell_type": "markdown",
   "metadata": {},
   "source": [
    "## To perform specific action and see the next state"
   ]
  },
  {
   "cell_type": "code",
   "execution_count": 3,
   "metadata": {},
   "outputs": [],
   "source": [
    "import gym\n",
    "import time\n",
    "env = gym.make('CartPole-v0')\n",
    "env.reset()\n",
    "env.render()\n",
    "time.sleep(1)\n",
    "for i in range(10):\n",
    "    env.step(0)#right\n",
    "    env.render()\n",
    "    time.sleep(1)\n",
    "env.close()"
   ]
  },
  {
   "cell_type": "markdown",
   "metadata": {},
   "source": [
    "# Human Play"
   ]
  },
  {
   "cell_type": "code",
   "execution_count": 24,
   "metadata": {},
   "outputs": [],
   "source": [
    "max_steps_per_episode=200\n",
    "for episode in range(2):\n",
    "    # initialize new episode params\n",
    "    observation = env.reset()\n",
    "    done = False\n",
    "    print(\"*****EPISODE \", episode+1, \"*****\\n\\n\\n\\n\")\n",
    "    time.sleep(1)\n",
    "    for step in range(max_steps_per_episode):        \n",
    "        # Show current state of environment on screen\n",
    "        env.render()\n",
    "        time.sleep(0.3)\n",
    "        action=int(input())\n",
    "        observation, reward, done, info = env.step(action)\n",
    "        if done:\n",
    "            env.render()\n",
    "            break\n",
    "        \n",
    "env.close()"
   ]
  },
  {
   "cell_type": "markdown",
   "metadata": {},
   "source": [
    "## Random Play"
   ]
  },
  {
   "cell_type": "code",
   "execution_count": 18,
   "metadata": {},
   "outputs": [
    {
     "name": "stdout",
     "output_type": "stream",
     "text": [
      "Length of Episode 27\n"
     ]
    }
   ],
   "source": [
    "import gym\n",
    "import numpy\n",
    "env=gym.make(\"CartPole-v0\")\n",
    "done=False\n",
    "obsrvation=env.reset()\n",
    "c=0\n",
    "while not done:\n",
    "    env.render()\n",
    "    action=env.action_space.sample()\n",
    "    obsrvation,reward,done,_=env.step(action)\n",
    "    #print(obsrvation)\n",
    "    c+=1\n",
    "    if done:\n",
    "        break\n",
    "env.close()\n",
    "print(\"Length of Episode\",c)"
   ]
  },
  {
   "cell_type": "code",
   "execution_count": 19,
   "metadata": {},
   "outputs": [
    {
     "name": "stdout",
     "output_type": "stream",
     "text": [
      "1000\n"
     ]
    }
   ],
   "source": [
    "#try to chek what will be rendered evn after pole fall\n",
    "import gym\n",
    "env = gym.make('CartPole-v0')\n",
    "env.reset()\n",
    "c=0\n",
    "for _ in range(1000):\n",
    "    env.render()\n",
    "    c+=1\n",
    "    s,r,d,oth=env.step(env.action_space.sample()) #\n",
    "print(c)\n",
    "env.close()"
   ]
  },
  {
   "cell_type": "markdown",
   "metadata": {},
   "source": [
    "## Q Learning"
   ]
  },
  {
   "cell_type": "code",
   "execution_count": 25,
   "metadata": {
    "scrolled": false
   },
   "outputs": [
    {
     "name": "stdout",
     "output_type": "stream",
     "text": [
      "0 1.0000 9.0\n",
      "100 0.0995 29.0\n",
      "200 0.0705 31.0\n",
      "300 0.0576 26.0\n",
      "400 0.0499 20.0\n",
      "500 0.0447 200.0\n",
      "600 0.0408 118.0\n",
      "700 0.0378 171.0\n",
      "800 0.0353 200.0\n",
      "900 0.0333 131.0\n"
     ]
    },
    {
     "data": {
      "image/png": "[encoded data removed]",
      "text/plain": [
       "<Figure size 432x288 with 1 Axes>"
      ]
     },
     "metadata": {
      "needs_background": "light"
     },
     "output_type": "display_data"
    }
   ],
   "source": [
    "import os\n",
    "import gym\n",
    "import numpy as np \n",
    "import matplotlib.pyplot as plt \n",
    "import random\n",
    "seed=12\n",
    "os.environ['PYTHONHASHSEED']=str(seed)\n",
    "random.seed(seed) \n",
    "np.random.seed(seed)\n",
    "env = gym.make('CartPole-v0')\n",
    "env.seed(seed)\n",
    "env.action_space.seed(seed)\n",
    "MAXSTATES = 10**4\n",
    "GAMMA = 0.9\n",
    "ALPHA = 0.01\n",
    "\n",
    "def max_dict(d):\n",
    "    max_v = float('-inf')\n",
    "    for key, val in d.items():\n",
    "        if val > max_v:\n",
    "            max_v = val\n",
    "            max_key = key\n",
    "    return max_key, max_v\n",
    "\n",
    "def create_bins():\n",
    "    # obs[0] -> cart position --- -4.8 - 4.8\n",
    "    # obs[1] -> cart velocity --- -inf - inf\n",
    "    # obs[2] -> pole angle    --- -41.8 - 41.8\n",
    "    # obs[3] -> pole velocity --- -inf - inf\n",
    "    bins = np.zeros((4,10))\n",
    "    bins[0] = np.linspace(-4.8, 4.8, 10)\n",
    "    bins[1] = np.linspace(-5, 5, 10)\n",
    "    bins[2] = np.linspace(-.418, .418, 10)\n",
    "    bins[3] = np.linspace(-5, 5, 10)\n",
    "\n",
    "    return bins\n",
    "\n",
    "def assign_bins(observation, bins):\n",
    "    state = np.zeros(4)\n",
    "    for i in range(4):\n",
    "        #state[i] contain bin number for all four observations\n",
    "        state[i] = np.digitize(observation[i], bins[i])\n",
    "    return state\n",
    "\n",
    "def get_state_as_string(state):\n",
    "    string_state = ''.join(str(int(e)) for e in state)\n",
    "    return string_state\n",
    "\n",
    "def get_all_states_as_string():\n",
    "    states = []\n",
    "    for i in range(MAXSTATES):\n",
    "        states.append(str(i).zfill(4))\n",
    "    return states\n",
    "\n",
    "def initialize_Q():\n",
    "    Q = {}\n",
    "\n",
    "    all_states = get_all_states_as_string()  ### 0: \"0000\", 1:\"0001\",..,12:\"0012\",  152: \"0152\",.., 9999:\"9999\"\n",
    "    for state in all_states:\n",
    "        Q[state] = {}\n",
    "        for action in range(env.action_space.n):\n",
    "            Q[state][action] = 0.0\n",
    "    return Q\n",
    "\n",
    "def play_one_game(bins, Q, eps=0.5):\n",
    "    observation = env.reset()\n",
    "    done = False\n",
    "    cnt = 0 # number of moves in an episode\n",
    "    state = get_state_as_string(assign_bins(observation, bins)) #[5 4 2 1], 5421\n",
    "  \n",
    "    total_reward = 0\n",
    "\n",
    "    while not done:\n",
    "        #env.render()\n",
    "        cnt += 1\n",
    "        # np.random.randn() seems to yield a random action 50% of the time ?\n",
    "        if np.random.uniform() < eps:\n",
    "            act = env.action_space.sample() # epsilon greedy\n",
    "        else:\n",
    "            act = max_dict(Q[state])[0]\n",
    "\n",
    "        observation, reward, done, _ = env.step(act)\n",
    "\n",
    "        total_reward += reward\n",
    "\n",
    "        if done and cnt < 200:\n",
    "            reward = -300\n",
    "\n",
    "        state_new = get_state_as_string(assign_bins(observation, bins))\n",
    "        \n",
    "        a1, max_q_s1a1 = max_dict(Q[state_new])\n",
    "        Q[state][act] += ALPHA*(reward + GAMMA*max_q_s1a1 - Q[state][act])\n",
    "        state, act = state_new, a1\n",
    "    env.close()\n",
    "    return total_reward, cnt\n",
    "\n",
    "def play_many_games(bins, N=50):\n",
    "    global Q\n",
    "    length = []\n",
    "    reward = []\n",
    "    for n in range(N):\n",
    "        #eps=0.5/(1+n*10e-3)\n",
    "        eps = 1.0 / np.sqrt(n+1)\n",
    "\n",
    "        episode_reward, episode_length = play_one_game(bins, Q, eps)\n",
    "        if n % 100 == 0:\n",
    "            print(n, '%.4f' % eps, episode_reward)\n",
    "        length.append(episode_length)\n",
    "        reward.append(episode_reward)\n",
    "\n",
    "    return length, reward\n",
    "\n",
    "def plot_running_avg(totalrewards):\n",
    "    N = len(totalrewards)\n",
    "    running_avg = np.empty(N)\n",
    "    for t in range(N):\n",
    "        running_avg[t] = np.mean(totalrewards[max(0, t-100):(t+1)])\n",
    "    plt.plot(running_avg)\n",
    "    plt.title(\"Running Average\")\n",
    "    plt.show()\n",
    "\n",
    "if __name__ == '__main__':\n",
    "    Q = initialize_Q()\n",
    "    bins = create_bins()\n",
    "    episode_lengths, episode_rewards = play_many_games(bins)\n",
    "    plot_running_avg(episode_rewards)"
   ]
  },
  {
   "cell_type": "markdown",
   "metadata": {},
   "source": [
    "### Lets Auto Control"
   ]
  },
  {
   "cell_type": "code",
   "execution_count": 27,
   "metadata": {},
   "outputs": [
    {
     "name": "stdout",
     "output_type": "stream",
     "text": [
      "*****EPISODE  1 *****\n",
      "\n",
      "\n",
      "\n",
      "\n",
      "Length of Episode 0 is 200\n",
      "*****EPISODE  2 *****\n",
      "\n",
      "\n",
      "\n",
      "\n",
      "Length of Episode 1 is 200\n",
      "*****EPISODE  3 *****\n",
      "\n",
      "\n",
      "\n",
      "\n",
      "Length of Episode 2 is 200\n"
     ]
    }
   ],
   "source": [
    "def play():\n",
    "    max_steps_per_episode=200\n",
    "    for episode in range(3):\n",
    "        # initialize new episode params\n",
    "        observation = env.reset()\n",
    "        done = False\n",
    "        print(\"*****EPISODE \", episode+1, \"*****\\n\")\n",
    "        #time.sleep(1)\n",
    "        length=0\n",
    "        for step in range(max_steps_per_episode):        \n",
    "            # Show current state of environment on screen\n",
    "            env.render()\n",
    "            time.sleep(0.3)\n",
    "            # Choose action with highest Q-value for current state       \n",
    "            state = get_state_as_string(assign_bins(observation, bins))\n",
    "            action = max_dict(Q[state])[0]  #np.argmax(q_table[state,:])        \n",
    "            # Take action\n",
    "            observation, reward, done, info = env.step(action)\n",
    "            length+=1\n",
    "            if done:\n",
    "                env.render()\n",
    "                break\n",
    "        print(\"Length of Episode {0} is {1}\".format(episode,length))\n",
    "    env.close()"
   ]
  },
  {
   "cell_type": "markdown",
   "metadata": {},
   "source": [
    "## Train for Longer time and then play"
   ]
  },
  {
   "cell_type": "code",
   "execution_count": null,
   "metadata": {},
   "outputs": [],
   "source": [
    "Q = initialize_Q()\n",
    "bins = create_bins()\n",
    "episode_lengths, episode_rewards = play_many_games(bins)\n",
    "plot_running_avg(episode_rewards)"
   ]
  },
  {
   "cell_type": "code",
   "execution_count": null,
   "metadata": {},
   "outputs": [],
   "source": [
    "play()"
   ]
  }
 ],
 "metadata": {
  "kernelspec": {
   "display_name": "Python 3",
   "language": "python",
   "name": "python3"
  },
  "language_info": {
   "codemirror_mode": {
    "name": "ipython",
    "version": 3
   },
   "file_extension": ".py",
   "mimetype": "text/x-python",
   "name": "python",
   "nbconvert_exporter": "python",
   "pygments_lexer": "ipython3",
   "version": "3.8.3"
  }
 },
 "nbformat": 4,
 "nbformat_minor": 2
}
